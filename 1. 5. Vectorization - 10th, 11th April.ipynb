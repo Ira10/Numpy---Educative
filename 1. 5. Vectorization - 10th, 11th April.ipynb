{
 "cells": [
  {
   "cell_type": "markdown",
   "id": "e7b2b23b-0fad-417f-b1d3-b621f11cd3af",
   "metadata": {},
   "source": [
    "# NumPy Vectorization\n",
    "\n",
    "Vectorization, in simple words, means optimizing the algorithm so that it can run multiple operations from a single instruction. <br>\n",
    "\n",
    "\n",
    "NumPy is all about vectorization. If you are familiar with Python, this is the main difficulty you’ll face because you’ll need to change your way of thinking and your new friends (among others) are named “vectors”, “arrays”, “views” or \"ufuncs\".\n"
   ]
  },
  {
   "cell_type": "markdown",
   "id": "661bdd66-618d-49f2-afd0-dda14ab56d04",
   "metadata": {},
   "source": [
    "### my understanding\n",
    "\n",
    "Let's say we have a list from 1 to 1 lakh, [1,2,3,4,....,99999,100000] <br>\n",
    "Now, we want to divide all the numbers by 2. <br>\n",
    "We can just start a for loop, but it is not optimized. <br> \n",
    "So, we can break the list by few parts and do the divison problem. And sum up the results back together, that is vectorization. <br>\n",
    "\n",
    "**Mostly, we want to take advantage of computer's ability to process things simultaneously / parallel.**\n",
    "\n",
    "#### Why vectorizaion works? \n",
    "1. parallel\n",
    "2. only same data types reside in numpy array, unlike python list, which can store anything within\n",
    "3. locality in memory same area unlike python list, which may store here and there\n",
    "\n",
    "#### Vectorization is computing the same thing on different part of the list at the same to speed things up."
   ]
  },
  {
   "cell_type": "code",
   "execution_count": 13,
   "id": "55d52e78-11d4-440a-9f78-e6caf9e37b3a",
   "metadata": {},
   "outputs": [],
   "source": [
    "import numpy as np\n",
    "from time import time "
   ]
  },
  {
   "cell_type": "code",
   "execution_count": 14,
   "id": "50281c15-0412-431a-9e67-c4f688fdf083",
   "metadata": {},
   "outputs": [
    {
     "name": "stdout",
     "output_type": "stream",
     "text": [
      "It took seconds 0.0007829666137695312\n"
     ]
    }
   ],
   "source": [
    "start_time = time()\n",
    "\n",
    "a = np.arange(250000).reshape(500,500)\n",
    "\n",
    "end_time = time()\n",
    "t= end_time - start_time\n",
    "print(\"It took seconds\",t)"
   ]
  },
  {
   "cell_type": "code",
   "execution_count": 15,
   "id": "416fb44d-58e4-4c65-b0cf-405cad448fb1",
   "metadata": {},
   "outputs": [
    {
     "name": "stdout",
     "output_type": "stream",
     "text": [
      "[[     0      1      2 ...    497    498    499]\n",
      " [   500    501    502 ...    997    998    999]\n",
      " [  1000   1001   1002 ...   1497   1498   1499]\n",
      " ...\n",
      " [248500 248501 248502 ... 248997 248998 248999]\n",
      " [249000 249001 249002 ... 249497 249498 249499]\n",
      " [249500 249501 249502 ... 249997 249998 249999]]\n"
     ]
    }
   ],
   "source": [
    "a = np.arange(250000).reshape(500,500)\n",
    "print(a)"
   ]
  },
  {
   "cell_type": "markdown",
   "id": "02b835ce-9f86-4416-9eef-830a0993f727",
   "metadata": {},
   "source": [
    "# Object Oriented Approach \n",
    "\n",
    "Let’s take a very simple example, a random walk. One possible object-oriented approach would be to define a RandomWalker class and write a walk method that would return the current position after each (random) step. It’s nice, it’s readable, but it is slow:"
   ]
  },
  {
   "cell_type": "code",
   "execution_count": 17,
   "id": "7c180024-70f9-4843-87a1-21feb3a40a8e",
   "metadata": {},
   "outputs": [
    {
     "name": "stdout",
     "output_type": "stream",
     "text": [
      "10 loops, best of 3: 4.86 msec per loop\n"
     ]
    }
   ],
   "source": [
    "from tools import timeit #get time it from tools.py(custom module)\n",
    "import random\n",
    "class RandomWalker:\n",
    "  def __init__(self):\n",
    "           self.position = 0\n",
    "  def walk(self, n): # walk method\n",
    "    self.position = 0\n",
    "    for i in range(n):\n",
    "      yield self.position \n",
    "      self.position += 2*random.randint(0, 1) - 1\n",
    "      #returns current position after each random step\n",
    "           \n",
    "walker = RandomWalker() # make instance of class walk\n",
    "walk = [position for position in walker.walk(1000)]#call the walk function\n",
    "\n",
    "walker = RandomWalker()\n",
    "timeit(\"[position for position in walker.walk(n=10000)]\", globals())\n",
    "#calculates the  total loops and time per loop"
   ]
  },
  {
   "cell_type": "markdown",
   "id": "9c6c588f-3809-4bb4-b3e9-9b6cf631c45f",
   "metadata": {},
   "source": [
    "# Procedural Approach\n",
    "\n",
    "For such a simple problem, we can probably save the class definition and concentrate only on the walk method that computes successive positions after each random step. This new method saves some CPU cycles but not that much because of this function is pretty much the same as in the object-oriented approach and the few cycles we saved probably come from the inner Python object-oriented machinery."
   ]
  },
  {
   "cell_type": "code",
   "execution_count": 18,
   "id": "94c9b91b-074d-480c-96ee-12f92aeb6b28",
   "metadata": {},
   "outputs": [
    {
     "name": "stdout",
     "output_type": "stream",
     "text": [
      "10 loops, best of 3: 4.54 msec per loop\n"
     ]
    }
   ],
   "source": [
    "from tools import timeit #get timeit from tools.py (custom module)\n",
    "import random\n",
    "def random_walk(n):\n",
    "    position = 0\n",
    "    walk = [position]\n",
    "    for i in range(n):\n",
    "        position += 2*random.randint(0, 1)-1 #position takes up random values \n",
    "        walk.append(position)# append position to walk\n",
    "    return walk\n",
    "\n",
    "walk = random_walk(1000) #call the function random_walk\n",
    "timeit(\"random_walk(n=10000)\", globals()) # calculates the total loops and time per loop"
   ]
  },
  {
   "cell_type": "markdown",
   "id": "438a9b19-f47d-4189-8647-d567505f274a",
   "metadata": {},
   "source": [
    "# Vectorized Approach\n",
    "\n",
    "1. Itertools\n",
    "   Itertools is a python module that offers a set of functions creating iterators for efficient looping. If we observe that a random walk is an accumulation of steps, we can rewrite the function by first generating all the steps and accumulate them without any loop:"
   ]
  },
  {
   "cell_type": "code",
   "execution_count": 19,
   "id": "f4cc29a6-5885-4bcb-99ab-9291fadb53f6",
   "metadata": {},
   "outputs": [
    {
     "name": "stdout",
     "output_type": "stream",
     "text": [
      "100 loops, best of 3: 848 usec per loop\n"
     ]
    }
   ],
   "source": [
    "from tools import timeit #get timeit function from tools.py(custom module)\n",
    "from itertools import accumulate #get accumulate function from built accumulate module\n",
    "import random \n",
    "def random_walk_faster(n=1000):\n",
    "  steps = random.choices([-1,+1], k=n)\n",
    "  return [0]+list(accumulate(steps))#get the total number of steps\n",
    "\n",
    "walk = random_walk_faster(1000) \n",
    "timeit(\"random_walk_faster(n=10000)\", globals())# calculates the total loops and time per loop"
   ]
  },
  {
   "cell_type": "markdown",
   "id": "fce0f7a7-15c5-40e7-80be-8866e5f9498b",
   "metadata": {},
   "source": [
    "In fact, we’ve just vectorized our function. Instead of looping for picking sequential steps and add them to the current position, we first generated all the steps at once and used the accumulate function to compute all the positions. We got rid of the loop and this makes things faster."
   ]
  },
  {
   "cell_type": "markdown",
   "id": "89bb2070-4d53-4d43-a3fb-6f8e10576d18",
   "metadata": {},
   "source": [
    "2. Numpy\n",
    "\n",
    "   We gained 85% of computation-time compared to the previous version, not so bad. But the advantage of this new version is that it makes NumPy vectorization super simple. We just have to translate itertools call into NumPy ones:\n",
    "   "
   ]
  },
  {
   "cell_type": "code",
   "execution_count": 20,
   "id": "6879b5c0-fabd-44c2-846b-711f8bf1566c",
   "metadata": {},
   "outputs": [
    {
     "name": "stdout",
     "output_type": "stream",
     "text": [
      "1000 loops, best of 3: 18.9 usec per loop\n"
     ]
    }
   ],
   "source": [
    "from tools import timeit #get timeit function from tools.py(custom module)\n",
    "import numpy as np\n",
    "def random_walk_fastest(n=1000):\n",
    "    # No 's' in NumPy choice (Python offers choice & choices)\n",
    "    steps = np.random.choice([-1,+1], n)\n",
    "    return np.cumsum(steps) #return the cumulative sum of the steps along a given axis.\n",
    "\n",
    "walk = random_walk_fastest(1000)\n",
    "timeit(\"random_walk_fastest(n=1000)\", globals())\n",
    "#calculates the total loops and time per loop"
   ]
  }
 ],
 "metadata": {
  "kernelspec": {
   "display_name": "Python 3 (ipykernel)",
   "language": "python",
   "name": "python3"
  },
  "language_info": {
   "codemirror_mode": {
    "name": "ipython",
    "version": 3
   },
   "file_extension": ".py",
   "mimetype": "text/x-python",
   "name": "python",
   "nbconvert_exporter": "python",
   "pygments_lexer": "ipython3",
   "version": "3.11.7"
  }
 },
 "nbformat": 4,
 "nbformat_minor": 5
}
