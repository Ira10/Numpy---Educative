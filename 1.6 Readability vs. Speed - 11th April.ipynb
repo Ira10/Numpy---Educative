{
 "cells": [
  {
   "cell_type": "markdown",
   "id": "737bbab9-8961-497f-8c7b-62df759f6b72",
   "metadata": {},
   "source": [
    "Before heading to the next chapter, I would like to warn you about a potential problem you may encounter once you’ll have become familiar with NumPy.\n",
    "\n",
    "It is a very powerful library and you can make wonders with it but, most of the time, this comes at the price of readability. If you don’t comment your code at the time of writing, you won’t be able to tell what a function is doing after a few weeks (or possibly days).\n",
    "\n",
    "For example, can you tell what the two functions below are doing? Probably, you can tell for the first one, but unlikely for the second."
   ]
  },
  {
   "cell_type": "code",
   "execution_count": 2,
   "id": "7204c5eb-88fc-4960-b1f6-f008d75da1d6",
   "metadata": {},
   "outputs": [
    {
     "name": "stdout",
     "output_type": "stream",
     "text": [
      "Function 1: [6]\n",
      "Function 2: [6]\n"
     ]
    }
   ],
   "source": [
    "import numpy as np\n",
    "# More readability, less speed\n",
    "def function_1(seq, sub): \n",
    "    return [i for i in range(len(seq) - len(sub) +1) if seq[i:i+len(sub)] == sub]\n",
    "\n",
    "# More speed, less readability  \n",
    "def function_2(seq, sub):\n",
    "    target = np.dot(sub, sub)\n",
    "    candidates = np.where(np.correlate(seq, sub, mode='valid') == target)[0]\n",
    "    check = candidates[:, np.newaxis] + np.arange(len(sub))\n",
    "    mask = np.all((np.take(seq, check) == sub), axis=-1)\n",
    "    return candidates[mask]\n",
    "\n",
    "seq=[12, 10, 2, 45, 13, 65, 11, 8, 5]\n",
    "sub=[11, 8]\n",
    "print(\"Function 1:\",function_1(seq,sub))\n",
    "print(\"Function 2:\",function_2(seq,sub))"
   ]
  },
  {
   "cell_type": "markdown",
   "id": "0dcba213-5895-4771-9e4c-45fe02dd0f33",
   "metadata": {},
   "source": [
    "Here in this code, both the functions return the index of the subsequence in the sequence. The sequence is [12, 10, 2, 45, 13, 65, 11, 8, 5] and the subsequence is [11, 8]. The index of the subsequence in the sequence is 6. As you may have guessed, the second function is the vectorized-optimized-faster-NumPy version of the first function. It is 10 times faster than the pure Python version, but it is hardly readable."
   ]
  }
 ],
 "metadata": {
  "kernelspec": {
   "display_name": "Python 3 (ipykernel)",
   "language": "python",
   "name": "python3"
  },
  "language_info": {
   "codemirror_mode": {
    "name": "ipython",
    "version": 3
   },
   "file_extension": ".py",
   "mimetype": "text/x-python",
   "name": "python",
   "nbconvert_exporter": "python",
   "pygments_lexer": "ipython3",
   "version": "3.11.7"
  }
 },
 "nbformat": 4,
 "nbformat_minor": 5
}
