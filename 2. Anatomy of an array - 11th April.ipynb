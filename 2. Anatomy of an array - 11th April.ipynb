{
 "cells": [
  {
   "cell_type": "markdown",
   "id": "6062761b-269a-4b1b-9afd-f4a0dd88cc22",
   "metadata": {},
   "source": [
    "This chapter explains the basic anatomy of NumPy arrays, especially regarding the memory layout, view, copy and the data type. They are critical notions to understand if you want your computation to benefit from NumPy philosophy.\n",
    "\n",
    "Let’s consider a simple example where we want to clear all the values from an array which has the data type np.float32. How does one write it to **maximize speed**? The below syntax is rather obvious (at least for those familiar with NumPy) but the above question asks to find the fastest operation."
   ]
  },
  {
   "cell_type": "code",
   "execution_count": 1,
   "id": "7bcfa80a-4eef-445d-80d5-0edfb3d105b6",
   "metadata": {},
   "outputs": [
    {
     "name": "stdout",
     "output_type": "stream",
     "text": [
      "[1. 1. 1. ... 1. 1. 1.]\n",
      "[0. 0. 0. ... 0. 0. 0.]\n",
      "float32\n"
     ]
    }
   ],
   "source": [
    "import numpy as np\n",
    "Z = np.ones(4*1000000, np.float32) #create an array of ones of size 4 *1000000\n",
    "print(Z)\n",
    "Z[...] = 0 #clear the array,sets every value to 0\n",
    "print(Z)\n",
    "print(Z.dtype)#prints the datatype of Z"
   ]
  },
  {
   "cell_type": "markdown",
   "id": "c9e55ec2-632b-4832-b909-19cfbae0d7d4",
   "metadata": {},
   "source": [
    "If you look more closely at both the <font color='red'>dtype</font> and the size of the array, you can observe that this array can be casted (i.e. viewed) into many other “compatible” data types. By compatible, I mean that <font color='red'>Z.size * Z.itemsize</font> can be divided by the new dtype <font color='red'>itemsize.</font>"
   ]
  },
  {
   "cell_type": "code",
   "execution_count": 3,
   "id": "4e9dfdf4-1e42-4ff1-b6e0-0c11a7ae84ea",
   "metadata": {},
   "outputs": [
    {
     "name": "stdout",
     "output_type": "stream",
     "text": [
      "np.float16:\n",
      "100 loops, best of 3: 483 usec per loop\n",
      "np.int16:\n",
      "100 loops, best of 3: 476 usec per loop\n",
      "np.int32:\n",
      "100 loops, best of 3: 480 usec per loop\n",
      "np.float32:\n",
      "100 loops, best of 3: 480 usec per loop\n",
      "np.int64:\n",
      "100 loops, best of 3: 478 usec per loop\n",
      "np.float64:\n",
      "100 loops, best of 3: 476 usec per loop\n",
      "np.complex128:\n",
      "100 loops, best of 3: 519 usec per loop\n",
      "np.int8:\n",
      "1000 loops, best of 3: 244 usec per loop\n",
      "np.float16:\n",
      "100 loops, best of 3: 491 usec per loop\n",
      "np.int16:\n",
      "100 loops, best of 3: 493 usec per loop\n",
      "np.int32:\n",
      "100 loops, best of 3: 477 usec per loop\n",
      "np.float32:\n",
      "100 loops, best of 3: 478 usec per loop\n",
      "np.int64:\n",
      "100 loops, best of 3: 467 usec per loop\n",
      "np.float64:\n",
      "100 loops, best of 3: 463 usec per loop\n",
      "np.complex128:\n",
      "100 loops, best of 3: 530 usec per loop\n",
      "np.int8:\n",
      "1000 loops, best of 3: 245 usec per loop\n"
     ]
    }
   ],
   "source": [
    "import numpy as np\n",
    "from tools import timeit #get timeit from tools.py(custom module)\n",
    "Z = np.ones(4*1000000, np.float32) #create an array of size 4*10000000 np.float32\n",
    "\n",
    "print(\"np.float16:\")\n",
    "#time required to view array as np.float16\n",
    "timeit(\"Z.view(np.float16)[...] = 0\", globals())\n",
    "\n",
    "print(\"np.int16:\")\n",
    "#time required to view array as np.int16\n",
    "timeit(\"Z.view(np.int16)[...] = 0\", globals())\n",
    "\n",
    "print(\"np.int32:\")\n",
    "#time required to view array as np.int32\n",
    "timeit(\"Z.view(np.int32)[...] = 0\", globals())\n",
    "\n",
    "print(\"np.float32:\")\n",
    "#time required to view array as np.float32\n",
    "timeit(\"Z.view(np.float32)[...] = 0\", globals())\n",
    "\n",
    "print(\"np.int64:\")\n",
    "#time required to view array as np.int64\n",
    "timeit(\"Z.view(np.int64)[...] = 0\", globals())\n",
    "\n",
    "print(\"np.float64:\")\n",
    "#time required to view array as np.float64\n",
    "timeit(\"Z.view(np.float64)[...] = 0\", globals())\n",
    "\n",
    "print(\"np.complex128:\")\n",
    "#time required to view array as np.complex128\n",
    "timeit(\"Z.view(np.complex128)[...] = 0\", globals())\n",
    "\n",
    "print(\"np.int8:\")\n",
    "#time required to view array as np.int8\n",
    "timeit(\"Z.view(np.int8)[...] = 0\", globals())\n",
    "\n",
    "print(\"np.float16:\")\n",
    "#time required to view array as np.float16\n",
    "timeit(\"Z.view(np.float16)[...] = 0\", globals())\n",
    "\n",
    "\n",
    "print(\"np.int16:\")\n",
    "#time required to view array as np.int16\n",
    "timeit(\"Z.view(np.int16)[...] = 0\", globals())\n",
    "\n",
    "print(\"np.int32:\")\n",
    "#time required to view array as np.int32\n",
    "timeit(\"Z.view(np.int32)[...] = 0\", globals())\n",
    "\n",
    "print(\"np.float32:\")\n",
    "#time required to view array as np.float32\n",
    "timeit(\"Z.view(np.float32)[...] = 0\", globals())\n",
    "\n",
    "print(\"np.int64:\")\n",
    "#time required to view array as np.int64\n",
    "timeit(\"Z.view(np.int64)[...] = 0\", globals())\n",
    "\n",
    "print(\"np.float64:\")\n",
    "#time required to view array as np.float64\n",
    "timeit(\"Z.view(np.float64)[...] = 0\", globals())\n",
    "\n",
    "print(\"np.complex128:\")\n",
    "#time required to view array as np.complex128\n",
    "timeit(\"Z.view(np.complex128)[...] = 0\", globals())\n",
    "\n",
    "print(\"np.int8:\")\n",
    "#time required to view array as np.int8\n",
    "timeit(\"Z.view(np.int8)[...] = 0\", globals())"
   ]
  },
  {
   "cell_type": "markdown",
   "id": "94f0a778-6e40-4170-b92f-67ed02b5453d",
   "metadata": {},
   "source": [
    "Here timeit is a custom function used. Interestingly enough, the obvious way of clearing all the values is not the fastest. The total number of CPU cycle to execute each above instruction are 100 but the two instruction take less time per loop. By casting the array into a larger data type such as <font color='red'>np.float64</font>, we gained a 25% speed factor. But, by viewing the array as a byte array <font color='red'>(np.int8)</font>, we gained a 50% factor. The reason for such speedup is to be found in the internal NumPy machinery and the compiler optimization."
   ]
  },
  {
   "cell_type": "markdown",
   "id": "b9247b93-45dd-4733-ab3f-394009e08886",
   "metadata": {},
   "source": [
    "Q. How can you increase the speed factor for clearing data from an array(setting all values in an array to 0)? <br>\n",
    "\n",
    "A. timeit(\"Z.view(np.float64)[...] = 0\", globals())"
   ]
  },
  {
   "cell_type": "code",
   "execution_count": 4,
   "id": "42889aff-0ba9-4c07-9d7d-cf180959267c",
   "metadata": {},
   "outputs": [
    {
     "name": "stdout",
     "output_type": "stream",
     "text": [
      "100 loops, best of 3: 489 usec per loop\n"
     ]
    }
   ],
   "source": [
    "timeit(\"Z.view(np.float64)[...] = 0\", globals())"
   ]
  },
  {
   "cell_type": "code",
   "execution_count": 5,
   "id": "41d59568-95cc-4877-a476-f38f06f59df2",
   "metadata": {},
   "outputs": [
    {
     "name": "stdout",
     "output_type": "stream",
     "text": [
      "100 loops, best of 3: 488 usec per loop\n"
     ]
    }
   ],
   "source": [
    "timeit(\"Z.view(np.float16)[...] = 0\", globals())"
   ]
  },
  {
   "cell_type": "code",
   "execution_count": 6,
   "id": "9bc0b6a0-3132-46cd-9620-a1fc4dd1af42",
   "metadata": {},
   "outputs": [
    {
     "name": "stdout",
     "output_type": "stream",
     "text": [
      "100 loops, best of 3: 253 usec per loop\n"
     ]
    }
   ],
   "source": [
    "timeit(\"Z.view(np.int8)[...] = 0\", globals())"
   ]
  }
 ],
 "metadata": {
  "kernelspec": {
   "display_name": "Python 3 (ipykernel)",
   "language": "python",
   "name": "python3"
  },
  "language_info": {
   "codemirror_mode": {
    "name": "ipython",
    "version": 3
   },
   "file_extension": ".py",
   "mimetype": "text/x-python",
   "name": "python",
   "nbconvert_exporter": "python",
   "pygments_lexer": "ipython3",
   "version": "3.11.7"
  }
 },
 "nbformat": 4,
 "nbformat_minor": 5
}
